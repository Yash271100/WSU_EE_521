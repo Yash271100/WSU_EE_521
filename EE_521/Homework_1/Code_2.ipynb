{
 "cells": [
  {
   "cell_type": "markdown",
   "metadata": {
    "id": "FiJTPycF41qP"
   },
   "source": [
    "# Pre-requisites"
   ]
  },
  {
   "cell_type": "code",
   "execution_count": 68,
   "metadata": {
    "id": "T4t-mxnf4iiS"
   },
   "outputs": [],
   "source": [
    "import numpy as np\n",
    "import pdb\n",
    "import itertools as itt"
   ]
  },
  {
   "cell_type": "markdown",
   "metadata": {
    "id": "K4j3BjrP8tRE"
   },
   "source": [
    "# Problem Formulation:"
   ]
  },
  {
   "cell_type": "code",
   "execution_count": 69,
   "metadata": {
    "id": "WkV2iL_R8sKS"
   },
   "outputs": [],
   "source": [
    "# Line matrix:\n",
    "# Format:            Starting_Node  Ending_Node       R         X\n",
    "Linedata1 = np.array([    0,             1,         0.02,     0.04,\n",
    "                          0,             2,         0.01,     0.03,\n",
    "                          1,             0,         0.02,     0.04,\n",
    "                          1,             2,         0.0125,   0.025,\n",
    "                          2,             0,         0.01,     0.03,\n",
    "                          2,             1,         0.0125,   0.025]).reshape(6,4);\n",
    "\n",
    "j = np.sqrt(-1+0j); S_base = 100;\n",
    "# Load matrix: Status is 0 for slack, 1 for PQ buses, and 2 for PV buses.\n",
    "# Format:              Bus_Number  Status_of_Buses     Voltage (pu)   Real_Power_injected    Reactive_Power_injected\n",
    "Loaddata1 = np.array([   0,             0,                 1.05,                 0,                          0,\n",
    "                         1,             1,                 1.00,                -400,                        -250,\n",
    "                         2,             2,                 1.04,                 200,                      0]).reshape(3,5);"
   ]
  },
  {
   "cell_type": "code",
   "execution_count": 70,
   "metadata": {
    "colab": {
     "base_uri": "https://localhost:8080/"
    },
    "id": "fWxIfukc-iBS",
    "outputId": "214e194f-7b68-4281-e9c1-1db1e911991a"
   },
   "outputs": [
    {
     "name": "stdout",
     "output_type": "stream",
     "text": [
      "[1.05 1.   1.04]\n"
     ]
    }
   ],
   "source": [
    "P1 = np.copy(Loaddata1[:,3])/S_base;\n",
    "P1_cal = np.zeros(len(Loaddata1[:,0]));\n",
    "Q1 = np.copy(Loaddata1[:,4])/S_base;\n",
    "Q1_cal = np.zeros(len(Loaddata1[:,0]));\n",
    "Q1_old = np.copy(Loaddata1[:,4])/S_base;\n",
    "V1 = np.copy(Loaddata1[:,2]);\n",
    "V1_old = np.copy(Loaddata1[:,2]);\n",
    "Delta1 = np.zeros(len(Loaddata1[:,0]));\n",
    "Jacobian = np.zeros([len(Loaddata1[:,0]),len(Loaddata1[:,0])])\n",
    "\n",
    "print(V1)"
   ]
  },
  {
   "cell_type": "markdown",
   "metadata": {
    "id": "luuvzLG0-YnK"
   },
   "source": [
    "# Y bus matrix formulation"
   ]
  },
  {
   "cell_type": "code",
   "execution_count": 71,
   "metadata": {
    "colab": {
     "base_uri": "https://localhost:8080/"
    },
    "id": "OyO9fcMj48uv",
    "outputId": "1d6b593a-8e0b-40ba-83e2-ab1291febcce"
   },
   "outputs": [
    {
     "name": "stdout",
     "output_type": "stream",
     "text": [
      "[[ 20.-50.j -10.+20.j -10.+30.j]\n",
      " [-10.+20.j  26.-52.j -16.+32.j]\n",
      " [-10.+30.j -16.+32.j  26.-62.j]]\n",
      "[[ 20. -10. -10.]\n",
      " [-10.  26. -16.]\n",
      " [-10. -16.  26.]]\n",
      "[[-50.  20.  30.]\n",
      " [ 20. -52.  32.]\n",
      " [ 30.  32. -62.]]\n"
     ]
    }
   ],
   "source": [
    "def common_member(a,b):\n",
    "  a_set = set(a)\n",
    "  b_set = set(b)\n",
    "\n",
    "  # check length\n",
    "  if len(a_set.intersection(b_set)) > 0:\n",
    "      return(list(a_set.intersection(b_set)))\n",
    "  else:\n",
    "      return([])\n",
    "\n",
    "Y1= np.zeros([len(Loaddata1[:,0]),len(Loaddata1[:,0])],dtype=np.complex_);\n",
    "for i,k in zip(list(Linedata1[:,0]),list(Linedata1[:,1])):\n",
    "  i = int(i);k=int(k)\n",
    "  # print(f\"This is i: {i} & this is k: {k}\")\n",
    "  Y1[i,k] += -1*(1/(Linedata1[common_member(np.where(Linedata1[:,0]==i)[0],np.where(Linedata1[:,1]==k)[0]),2]+j*Linedata1[common_member(np.where(Linedata1[:,0]==i)[0],np.where(Linedata1[:,1]==k)[0]),3]))[0]\n",
    "for i in Loaddata1[:,0]:\n",
    "  i = int(i);\n",
    "  Y1[i,i] += sum(1/(Linedata1[pp,2]+j*Linedata1[pp,3]) for pp in list(np.where(Linedata1[:,0]==i)[0]))\n",
    "G = np.real(Y1)\n",
    "B = np.imag(Y1)\n",
    "print(Y1)\n",
    "print(G)\n",
    "print(B)"
   ]
  },
  {
   "cell_type": "markdown",
   "metadata": {
    "id": "nGUazJY-45ZE"
   },
   "source": [
    "# Standard Newton Raphson"
   ]
  },
  {
   "cell_type": "markdown",
   "metadata": {
    "id": "tpKDzWOiHonV"
   },
   "source": [
    "## Power calculations\n",
    "Explaination_by_Yash: I mean... could we be any more direct? We just calculated power for each bus except the slack bus and then the corresponding daviations of power."
   ]
  },
  {
   "cell_type": "code",
   "execution_count": 72,
   "metadata": {
    "colab": {
     "base_uri": "https://localhost:8080/"
    },
    "id": "EN4PJokoHsGJ",
    "outputId": "01b4af08-97ca-4be4-eec5-a04bae760acb"
   },
   "outputs": [
    {
     "name": "stdout",
     "output_type": "stream",
     "text": [
      "[-2.86    1.4384 -0.22  ]\n"
     ]
    }
   ],
   "source": [
    "for i in Loaddata1[:,0]:\n",
    "  i = int(i)\n",
    "  if Loaddata1[i,1] != 0:\n",
    "    P1_cal[i] = abs(V1[i])*sum([V1[int(k)]*(G[i,int(k)]*np.cos(Delta1[i]-Delta1[int(k)])+B[i,int(k)]*np.sin(Delta1[i]-Delta1[int(k)])) for k in Loaddata1[:,0]])\n",
    "  if Loaddata1[i,1] == 1:\n",
    "    Q1_cal[i] = abs(V1[i])*sum([V1[int(k)]*(G[i,int(k)]*np.sin(Delta1[i]-Delta1[int(k)])-B[i,int(k)]*np.cos(Delta1[i]-Delta1[int(k)])) for k in Loaddata1[:,0]])\n",
    "Del_P1 = P1-P1_cal;\n",
    "Del_Q1 = Q1-Q1_cal;\n",
    "delY = np.append(np.copy(Del_P1[1:]),(Del_Q1[np.where(Loaddata1[:,1] == 1)]))\n",
    "# print(P1_cal)\n",
    "# print(Q1_cal)\n",
    "# print(Del_P1)\n",
    "# print(Del_Q1)\n",
    "print(delY)"
   ]
  },
  {
   "cell_type": "markdown",
   "metadata": {
    "id": "95jGn0WwQBSR"
   },
   "source": [
    "## Jacobian Computation\n"
   ]
  },
  {
   "cell_type": "markdown",
   "metadata": {
    "id": "pfEhn-h4lJM2"
   },
   "source": [
    "### H calculation delP/delDelta\n",
    "We know that H is delP/delDelta however, we calculate the Delta for everybus except for slack bus and same goes for P. Hence dimension of H will be (N-1)*(N-1)"
   ]
  },
  {
   "cell_type": "code",
   "execution_count": 73,
   "metadata": {
    "colab": {
     "base_uri": "https://localhost:8080/"
    },
    "id": "g8asAzMxQHa8",
    "outputId": "05a02fdb-97a4-461d-8186-81a0e529dc72"
   },
   "outputs": [
    {
     "name": "stdout",
     "output_type": "stream",
     "text": [
      "[[  0.       0.       0.    ]\n",
      " [  0.      54.5    -33.28  ]\n",
      " [  0.     -33.28    67.0592]]\n"
     ]
    }
   ],
   "source": [
    "H = np.zeros([len(Loaddata1[:,0]),len(Loaddata1[:,0])])\n",
    "for i,k in itt.product(Loaddata1[:,0],Loaddata1[:,0]):\n",
    "  i = int(i); k = int(k);\n",
    "  if Loaddata1[k,1] != 0 and Loaddata1[i,1] !=0:\n",
    "    # print(f\"This is i: {i} & this is k: {k}\")\n",
    "    if i==k:\n",
    "      H[i,k] = -np.real(Q1[i])-B[i,i]*(abs(V1[i])**2);\n",
    "    else:\n",
    "      H[i,k] =  abs(V1[i])*abs(V1[k])*(G[i,k]*np.sin(Delta1[i]-Delta1[k])-B[i,k]*np.cos(Delta1[i]-Delta1[k]))\n",
    "print(H)\n",
    "# print(Delta1)\n",
    "# print(B)\n",
    "# print(G)\n",
    "# print(np.real(Q1))"
   ]
  },
  {
   "cell_type": "markdown",
   "metadata": {
    "id": "fEpkmv67lYQB"
   },
   "source": [
    "### N calculation V*delP/delV\n",
    "We know that N is VdelP/delV however, we calculate the V for PQ busses and same goes for P. Hence dimension of H will be (NPq)*(NPq)"
   ]
  },
  {
   "cell_type": "code",
   "execution_count": 74,
   "metadata": {
    "colab": {
     "base_uri": "https://localhost:8080/"
    },
    "id": "0155jlkGllHE",
    "outputId": "544389d6-e8af-4ef0-831e-47639c321f2a"
   },
   "outputs": [
    {
     "name": "stdout",
     "output_type": "stream",
     "text": [
      "[[  0.     0.     0.  ]\n",
      " [  0.    22.     0.  ]\n",
      " [  0.   -16.64   0.  ]]\n"
     ]
    }
   ],
   "source": [
    "N = np.zeros([len(Loaddata1[:,0]),len(Loaddata1[:,0])])\n",
    "for i,k in itt.product(Loaddata1[:,0],Loaddata1[:,0]):\n",
    "  i = int(i); k = int(k);\n",
    "  if Loaddata1[k,1] == 1 and Loaddata1[i,1] != 0:\n",
    "    # print(f\"This is i: {i} & this is k: {k}\")\n",
    "    if i==k:\n",
    "      N[i,k] = np.real(P1[i])+G[i,i]*(abs(V1[i])**2);\n",
    "    else:\n",
    "      N[i,k] =  abs(V1[i])*abs(V1[k])*(G[i,k]*np.cos(Delta1[i]-Delta1[k])+B[i,k]*np.sin(Delta1[i]-Delta1[k]))\n",
    "print(N)\n",
    "# print(np.real(P1))"
   ]
  },
  {
   "cell_type": "markdown",
   "metadata": {
    "id": "EU8zSzD5SDQk"
   },
   "source": [
    "### J calculation delQ/delDelta\n",
    "Now Q is there for PV buses and Delta for every bus except the slack bus. Hence, our dimension for J would be (Npv)*(N-1)"
   ]
  },
  {
   "cell_type": "code",
   "execution_count": 75,
   "metadata": {
    "colab": {
     "base_uri": "https://localhost:8080/"
    },
    "id": "LbnjkTGzcnLX",
    "outputId": "b57d016f-6dd3-4483-9f51-6731ab6337fe"
   },
   "outputs": [
    {
     "name": "stdout",
     "output_type": "stream",
     "text": [
      "[[  0.     0.     0.  ]\n",
      " [  0.   -30.    16.64]\n",
      " [  0.     0.     0.  ]]\n"
     ]
    }
   ],
   "source": [
    "J = np.zeros([len(Loaddata1[:,0]),len(Loaddata1[:,0])])\n",
    "for i,k in itt.product(Loaddata1[:,0],Loaddata1[:,0]):\n",
    "  i = int(i); k = int(k);\n",
    "  if Loaddata1[i,1] == 1 and Loaddata1[k,1] != 0:\n",
    "    # print(f\"This is i: {i} & this is k: {k}\")\n",
    "    if i==k:\n",
    "      J[i,k] = np.real(P1[i])-G[i,i]*(abs(V1[i])**2);\n",
    "    else:\n",
    "      J[i,k] =  abs(V1[i])*abs(V1[k])*(-G[i,k]*np.cos(Delta1[i]-Delta1[k])-B[i,k]*np.sin(Delta1[i]-Delta1[k]))\n",
    "print(J)\n",
    "# print(np.real(P1))"
   ]
  },
  {
   "cell_type": "markdown",
   "metadata": {
    "id": "MQnvZuWNdLVr"
   },
   "source": [
    "### L calculation V*delQ/delV\n",
    "The Q is for PV buses and V is for PQ buses. Hence, the dimension of L will be (Npv)*(Npq)."
   ]
  },
  {
   "cell_type": "code",
   "execution_count": 76,
   "metadata": {
    "colab": {
     "base_uri": "https://localhost:8080/"
    },
    "id": "RQa_ebGEdo5N",
    "outputId": "311edd51-7e5a-4153-d273-9d14e5f5c926"
   },
   "outputs": [
    {
     "name": "stdout",
     "output_type": "stream",
     "text": [
      "[[ 0.   0.   0. ]\n",
      " [ 0.  49.5  0. ]\n",
      " [ 0.   0.   0. ]]\n"
     ]
    }
   ],
   "source": [
    "L = np.zeros([len(Loaddata1[:,0]),len(Loaddata1[:,0])])\n",
    "for i,k in itt.product(Loaddata1[:,0],Loaddata1[:,0]):\n",
    "  i = int(i); k = int(k);\n",
    "  if Loaddata1[i,1] == 1 and Loaddata1[k,1] == 1:\n",
    "    # print(f\"This is i: {i} & this is k: {k}\")\n",
    "    if i==k:\n",
    "      L[i,k] = np.real(Q1[i])-B[i,i]*(abs(V1[i])**2);\n",
    "    else:\n",
    "      L[i,k] =  abs(V1[i])*abs(V1[k])*(G[i,k]*np.sin(Delta1[i]-Delta1[k])-B[i,k]*np.cos(Delta1[i]-Delta1[k]))\n",
    "print(L)\n",
    "# print(np.real(Q1))"
   ]
  },
  {
   "cell_type": "markdown",
   "metadata": {
    "id": "Aqhl44DLePSm"
   },
   "source": [
    "### Forming the Jacobian:"
   ]
  },
  {
   "cell_type": "code",
   "execution_count": 77,
   "metadata": {
    "colab": {
     "base_uri": "https://localhost:8080/"
    },
    "id": "p-W0MFILfG9E",
    "outputId": "9f69e9f2-3c19-4b95-8989-036d337a4463"
   },
   "outputs": [
    {
     "name": "stdout",
     "output_type": "stream",
     "text": [
      "[[ 54.5  -33.28  22.  ]\n",
      " [-30.     0.   -16.64]\n",
      " [  0.     0.     0.  ]]\n"
     ]
    }
   ],
   "source": [
    "Jacobian[:len(Loaddata1[:,0])-1,:len(Loaddata1[:,0])-1] = H[1:len(Loaddata1[:,0]),1:len(Loaddata1[:,0])]\n",
    "Jacobian[:len(Loaddata1[:,0])-1,np.where(Loaddata1[:,1]==2)[0]] = N[1:len(Loaddata1[:,0]),np.where(Loaddata1[:,1]==1)[0]]\n",
    "Jacobian[np.where(Loaddata1[:,1]==1)[0],:len(Loaddata1[:,0])-1] = J[np.where(Loaddata1[:,1]==1)[0],1:len(Loaddata1[:,0])]\n",
    "# Jacobian[np.where(Loaddata1[:,1]==1)[0],np.where(Loaddata1[:,1]==1)[0]] = L[np.where(Loaddata1[:,1]==1)[0],np.where(Loaddata1[:,1]==1)[0]]\n",
    "Jacobian[np.where(Loaddata1[:,1]==1)[0],np.where(Loaddata1[:,1]==1)[0]] = 0\n",
    "\n",
    "# print(np.where(Loaddata1[:,1]==2)[0])\n",
    "print(Jacobian)"
   ]
  },
  {
   "cell_type": "code",
   "execution_count": 78,
   "metadata": {},
   "outputs": [
    {
     "name": "stdout",
     "output_type": "stream",
     "text": [
      "[[ 54.5    -33.28    22.    ]\n",
      " [-33.28    67.0592 -16.64  ]\n",
      " [-30.      16.64    49.5   ]]\n"
     ]
    }
   ],
   "source": [
    "# Tikdham:\n",
    "Jacobian = np.zeros([3,3])\n",
    "Jacobian[0:2,0:2] = H[1:3,1:3]\n",
    "Jacobian[0:2,2] = N[1:3,1]\n",
    "Jacobian[2,0:2] = J[1,1:3]\n",
    "Jacobian[2,2] = L[1,1]\n",
    "print(Jacobian)\n",
    "\n"
   ]
  },
  {
   "cell_type": "markdown",
   "metadata": {
    "id": "xtsnqyponX7j"
   },
   "source": [
    "## delDelta and delV/V calculations and updation of Delta and V"
   ]
  },
  {
   "cell_type": "code",
   "execution_count": 79,
   "metadata": {
    "colab": {
     "base_uri": "https://localhost:8080/"
    },
    "id": "F9VkLU52neQL",
    "outputId": "bc3c1ad5-365d-4407-b885-d9661bc2015d"
   },
   "outputs": [
    {
     "name": "stdout",
     "output_type": "stream",
     "text": [
      "[-0.0458804  -0.00860464 -0.0293582 ]\n"
     ]
    }
   ],
   "source": [
    "# delY =\n",
    "delX = np.matmul(np.linalg.inv(Jacobian),delY)\n",
    "# print(np.linalg.inv(Jacobian))\n",
    "print(delX)"
   ]
  },
  {
   "cell_type": "code",
   "execution_count": 80,
   "metadata": {
    "colab": {
     "base_uri": "https://localhost:8080/"
    },
    "id": "GnC_sRFj0Hcx",
    "outputId": "d2406e50-68df-4a0a-da84-af8d29246e91"
   },
   "outputs": [
    {
     "name": "stdout",
     "output_type": "stream",
     "text": [
      "[0. 0. 0.]\n",
      "[1.05 1.   1.04]\n",
      "[ 0.         -0.0458804  -0.00860464]\n",
      "[1.05       0.99139536 1.04      ]\n"
     ]
    }
   ],
   "source": [
    "print(Delta1)\n",
    "print(V1)\n",
    "Delta1[np.where(Loaddata1[:,1]!=0)[0]] += delX[:len(np.where(Loaddata1[:,1]!=0)[0])]\n",
    "V1[np.where(Loaddata1[:,1]==1)[0]] += delX[np.where(Loaddata1[:,1]==1)[0]]*V1[np.where(Loaddata1[:,1]==1)[0]]\n",
    "print(Delta1)\n",
    "print(V1)"
   ]
  },
  {
   "cell_type": "markdown",
   "metadata": {
    "id": "GPcCHcu73XQO"
   },
   "source": [
    "## Generalised Class for easy computation\n",
    "Explaination_by_Yash: Since we have already seen how to do the load flow equations and daviation updations. Lets directly jump to the class formation like we did in gauss siedel. Moreover...I'm lazy to analyse again and again lol! XD XD\n",
    "\n",
    "I know I know thodha complex hogaya hai but we will get through it. One equation at a time."
   ]
  },
  {
   "cell_type": "code",
   "execution_count": 81,
   "metadata": {
    "id": "N3Ro-08-4DGu"
   },
   "outputs": [],
   "source": [
    "class Std_NR():\n",
    "  def __init__(self, Linedata1, Loaddata1, N=2, Epsilon=1e-5, S_base=100):\n",
    "    self.Linedata1=Linedata1;\n",
    "    self.Loaddata1=Loaddata1;\n",
    "    self.N = N;\n",
    "    self.Epsilon = Epsilon;\n",
    "    self.S_base = 100; self.j = np.sqrt(-1+0j);\n",
    "    self.Vmin = 0.95; self.Vmax = 1.05;\n",
    "    self.Qmin = -1.0; self.Qmax = 1.0;\n",
    "    self.P1 = np.copy(self.Loaddata1[:,3])/self.S_base;\n",
    "    self.P1_cal = np.zeros(len(self.Loaddata1[:,0]));\n",
    "    self.Q1 = np.copy(self.Loaddata1[:,4])/self.S_base;\n",
    "    self.Q1_cal = np.zeros(len(self.Loaddata1[:,0]));\n",
    "    self.Q1_old = np.copy(self.Loaddata1[:,4])/self.S_base;\n",
    "    self.V1 = np.copy(self.Loaddata1[:,2]);\n",
    "    self.V1_old = np.copy(self.Loaddata1[:,2]);\n",
    "    self.Delta1 = np.zeros(len(self.Loaddata1[:,0]));\n",
    "    self.Jacobian = np.zeros([len(self.Loaddata1[:,0]),len(self.Loaddata1[:,0])])\n",
    "    self.I = np.zeros([len(self.Loaddata1[:,0]),len(self.Loaddata1[:,0])]);\n",
    "    self.S = np.zeros([len(self.Loaddata1[:,0]),len(self.Loaddata1[:,0])]);\n",
    "    self.S_loss = np.zeros([len(self.Loaddata1[:,0]),len(self.Loaddata1[:,0])]);\n",
    "\n",
    "  def common_member(self,a,b):\n",
    "    a_set = set(a)\n",
    "    b_set = set(b)\n",
    "\n",
    "    # check length\n",
    "    if len(a_set.intersection(b_set)) > 0:\n",
    "        return(list(a_set.intersection(b_set)))\n",
    "    else:\n",
    "        return([])\n",
    "\n",
    "  def Y_bus(self,Linedata1, Loaddata1):\n",
    "    Y1= np.zeros([len(self.Loaddata1[:,0]),len(self.Loaddata1[:,0])],dtype=np.complex_);\n",
    "    for i,k in zip(list(self.Linedata1[:,0]),list(self.Linedata1[:,1])):\n",
    "      i = int(i);k=int(k)\n",
    "      # print(f\"This is i: {i} & this is k: {k}\")\n",
    "      Y1[i,k] += -1*(1/(self.Linedata1[self.common_member(np.where(self.Linedata1[:,0]==i)[0],np.where(self.Linedata1[:,1]==k)[0]),2]+self.j*self.Linedata1[self.common_member(np.where(self.Linedata1[:,0]==i)[0],np.where(self.Linedata1[:,1]==k)[0]),3]))[0]\n",
    "    for i in self.Loaddata1[:,0]:\n",
    "      i = int(i);\n",
    "      Y1[i,i] += sum(1/(self.Linedata1[pp,2]+self.j*self.Linedata1[pp,3]) for pp in list(np.where(self.Linedata1[:,0]==i)[0]))\n",
    "    G = np.real(Y1)\n",
    "    B = np.imag(Y1)\n",
    "    return G,B,Y1\n",
    "\n",
    "  def Jacobian_Calculations(self):\n",
    "    # H:\n",
    "    self.H = np.zeros([len(self.Loaddata1[:,0]),len(self.Loaddata1[:,0])])\n",
    "    for i,k in itt.product(self.Loaddata1[:,0],self.Loaddata1[:,0]):\n",
    "      i = int(i); k = int(k);\n",
    "      if self.Loaddata1[k,1] != 0 and self.Loaddata1[i,1] !=0:\n",
    "        if i==k:\n",
    "          self.H[i,k] = -np.real(self.Q1[i])-self.B[i,i]*(abs(self.V1[i])**2);\n",
    "        else:\n",
    "          self.H[i,k] =  abs(self.V1[i])*abs(self.V1[k])*(self.G[i,k]*np.sin(self.Delta1[i]-self.Delta1[k])-self.B[i,k]*np.cos(self.Delta1[i]-self.Delta1[k]))\n",
    "    # N:\n",
    "    self.N_ = np.zeros([len(self.Loaddata1[:,0]),len(self.Loaddata1[:,0])])\n",
    "    for i,k in itt.product(self.Loaddata1[:,0],self.Loaddata1[:,0]):\n",
    "      i = int(i); k = int(k);\n",
    "      if self.Loaddata1[k,1] == 1 and self.Loaddata1[i,1] != 0:\n",
    "        if i==k:\n",
    "          self.N_[i,k] = np.real(self.P1[i])+self.G[i,i]*(abs(self.V1[i])**2);\n",
    "        else:\n",
    "          self.N_[i,k] =  abs(self.V1[i])*abs(self.V1[k])*(self.G[i,k]*np.cos(self.Delta1[i]-self.Delta1[k])+self.B[i,k]*np.sin(self.Delta1[i]-self.Delta1[k]))\n",
    "    # J:\n",
    "    self.J = np.zeros([len(self.Loaddata1[:,0]),len(self.Loaddata1[:,0])])\n",
    "    for i,k in itt.product(self.Loaddata1[:,0],self.Loaddata1[:,0]):\n",
    "      i = int(i); k = int(k);\n",
    "      if self.Loaddata1[i,1] == 1 and self.Loaddata1[k,1] != 0:\n",
    "        if i==k:\n",
    "          self.J[i,k] = np.real(self.P1[i])-self.G[i,i]*(abs(self.V1[i])**2);\n",
    "        else:\n",
    "          self.J[i,k] =  abs(self.V1[i])*abs(self.V1[k])*(-self.G[i,k]*np.cos(self.Delta1[i]-self.Delta1[k])-self.B[i,k]*np.sin(self.Delta1[i]-self.Delta1[k]))\n",
    "    # L:\n",
    "    self.L = np.zeros([len(self.Loaddata1[:,0]),len(self.Loaddata1[:,0])])\n",
    "    for i,k in itt.product(self.Loaddata1[:,0],self.Loaddata1[:,0]):\n",
    "      i = int(i); k = int(k);\n",
    "      if self.Loaddata1[i,1] == 1 and self.Loaddata1[k,1] == 1:\n",
    "        if i==k:\n",
    "          self.L[i,k] = np.real(self.Q1[i])-self.B[i,i]*(abs(self.V1[i])**2);\n",
    "        else:\n",
    "          self.L[i,k] =  abs(self.V1[i])*abs(self.V1[k])*(self.G[i,k]*np.sin(self.Delta1[i]-self.Delta1[k])-self.B[i,k]*np.cos(self.Delta1[i]-self.Delta1[k]))\n",
    "    # Formulation:\n",
    "    # self.Jacobian[:len(self.Loaddata1[:,0])-1,:len(self.Loaddata1[:,0])-1] = self.H[1:len(self.Loaddata1[:,0]),1:len(self.Loaddata1[:,0])]\n",
    "    # self.Jacobian[:len(self.Loaddata1[:,0])-1,np.where(self.Loaddata1[:,1]==1)[0]] = self.N[1:len(self.Loaddata1[:,0]),np.where(self.Loaddata1[:,1]==1)[0]]\n",
    "    # self.Jacobian[np.where(self.Loaddata1[:,1]==1)[0],:len(self.Loaddata1[:,0])-1] = self.J[np.where(self.Loaddata1[:,1]==1)[0],1:len(self.Loaddata1[:,0])]\n",
    "    # self.Jacobian[np.where(self.Loaddata1[:,1]==1)[0],np.where(self.Loaddata1[:,1]==1)[0]] = self.L[np.where(self.Loaddata1[:,1]==1)[0],np.where(self.Loaddata1[:,1]==1)[0]]\n",
    "    self.Jacobian[0:2,0:2] = self.H[1:3,1:3]\n",
    "    self.Jacobian[0:2,2] = self.N_[1:3,1]\n",
    "    self.Jacobian[2,0:2] = self.J[1,1:3]\n",
    "    self.Jacobian[2,2] = self.L[1,1]\n",
    "    \n",
    "    return self.Jacobian\n",
    "\n",
    "  def Calculations(self):\n",
    "    self.G,self.B,self.Y1 = self.Y_bus(self.Linedata1,self.Loaddata1);\n",
    "    Convergence = {};\n",
    "    for ii in range(self.N):\n",
    "      # print(f\"Yeh hai ii: {ii}\")\n",
    "      for i in self.Loaddata1[:,0]:\n",
    "        i = int(i)\n",
    "        if self.Loaddata1[i,1] != 0:\n",
    "          self.P1_cal[i] = abs(self.V1[i])*sum([self.V1[int(k)]*(self.G[i,int(k)]*np.cos(self.Delta1[i]-self.Delta1[int(k)])+self.B[i,int(k)]*np.sin(self.Delta1[i]-self.Delta1[int(k)])) for k in self.Loaddata1[:,0]])\n",
    "        if self.Loaddata1[i,1] == 1:\n",
    "          self.Q1_cal[i] = abs(self.V1[i])*sum([self.V1[int(k)]*(self.G[i,int(k)]*np.sin(self.Delta1[i]-self.Delta1[int(k)])-self.B[i,int(k)]*np.cos(self.Delta1[i]-self.Delta1[int(k)])) for k in self.Loaddata1[:,0]])\n",
    "      self.Q1_cal[self.Q1_cal<=self.Qmin]=self.Qmin;\n",
    "      self.Q1_cal[self.Q1_cal>=self.Qmax]=self.Qmax;\n",
    "      self.Del_P1 = np.copy(self.P1)-np.copy(self.P1_cal);\n",
    "      self.Del_Q1 = np.copy(self.Q1)-np.copy(self.Q1_cal);\n",
    "      # print(\"Our Epsilon: \",self.Epsilon)\n",
    "      # print(abs(self.Del_P1))\n",
    "      # print(abs(self.Del_Q1))\n",
    "      # print(\"np.all(abs(Del_P1[1:]) < self.Epsilon): \",np.all(abs(self.Del_P1[1:]) < self.Epsilon))\n",
    "      # print(\"abs(Del_P1[1:]) < self.Epsilon: \",abs(self.Del_P1[1:]) < self.Epsilon)\n",
    "      if np.all(abs(self.Del_P1[1:]) < self.Epsilon) and np.all(abs(self.Del_Q1[1:]) < self.Epsilon): #and np.all(abs(Del_Q1[1:]))<= self.Epsilon:\n",
    "        # print(f\"Yeh hai ii during break: {ii}\")\n",
    "        break\n",
    "      # print(\"Reaching\")\n",
    "      self.delY = np.append(np.copy(self.Del_P1[1:]),(self.Del_Q1[np.where(self.Loaddata1[:,1] == 1)]))\n",
    "      self.Jacobian = self.Jacobian_Calculations()\n",
    "      self.delX = np.matmul(np.linalg.inv(self.Jacobian),self.delY)\n",
    "      self.Delta1[np.where(self.Loaddata1[:,1]!=0)[0]] += self.delX[:len(np.where(self.Loaddata1[:,1]!=0)[0])]\n",
    "      self.V1[np.where(self.Loaddata1[:,1]==1)[0]] += self.delX[np.where(self.Loaddata1[:,1]==1)[0]]*self.V1[np.where(self.Loaddata1[:,1]==1)[0]]\n",
    "      self.V1[self.V1<=self.Vmin]=self.Vmin;\n",
    "      self.V1[self.V1>=self.Vmax]=self.Vmax;\n",
    "      Convergence[ii] = [(self.Del_P1[1:]), (self.Del_Q1[1:])];\n",
    "    # print(\"Baba re baba agaya bahar on iteration: \",ii+1)\n",
    "\n",
    "    # Slack bus computations:\n",
    "    self.P1_cal[0] = abs(self.V1[0])*sum([self.V1[int(k)]*(self.G[0,int(k)]*np.cos(self.Delta1[0]-self.Delta1[int(k)])+self.B[0,int(k)]*np.sin(self.Delta1[0]-self.Delta1[int(k)])) for k in self.Loaddata1[:,0]])\n",
    "    self.Q1_cal[0] = abs(self.V1[0])*sum([self.V1[int(k)]*(self.G[0,int(k)]*np.sin(self.Delta1[0]-self.Delta1[int(k)])-self.B[0,int(k)]*np.cos(self.Delta1[0]-self.Delta1[int(k)])) for k in self.Loaddata1[:,0]])\n",
    "\n",
    "    # Line Flows:\n",
    "    ## Branch Currents:\n",
    "    self.V1c = np.copy(self.V1)*(np.cos(self.Delta1)+self.j*np.sin(self.Delta1));\n",
    "    for i,k in zip(list(self.Linedata1[:,0]),list(self.Linedata1[:,1])):\n",
    "      i = int(i);k=int(k);\n",
    "      self.I[i,k] = (self.V1c[i]-self.V1c[k])*self.Y1[i,k];\n",
    "\n",
    "    ## Branch Flow:\n",
    "    for i,k in zip(list(self.Linedata1[:,0]),list(self.Linedata1[:,1])):\n",
    "      i = int(i);k=int(k);\n",
    "      self.S[i,k] = (self.V1c[i])*np.conjugate((self.V1c[i]-self.V1c[k])*self.Y1[i,k]);\n",
    "\n",
    "    ## Branch losses:\n",
    "    for i,k in zip(list(self.Linedata1[:,0]),list(self.Linedata1[:,1])):\n",
    "      i = int(i);k=int(k);\n",
    "      self.S_loss[i,k] = self.S[i,k]-self.S[k,i];\n",
    "\n",
    "    return self.V1, self.Delta1, self.P1_cal, self.Q1_cal, self.Jacobian, self.I, self.S, self.S_loss, ii+1, self.V1c, self.Del_P1, self.Del_Q1, Convergence"
   ]
  },
  {
   "cell_type": "code",
   "execution_count": 88,
   "metadata": {
    "colab": {
     "base_uri": "https://localhost:8080/"
    },
    "id": "jW02SkDHPb9H",
    "outputId": "64f0dfd8-d418-48f0-e151-89121ac87e1b"
   },
   "outputs": [
    {
     "name": "stdout",
     "output_type": "stream",
     "text": [
      "V1:  [1.05       0.99059171 1.04      ]\n",
      "Delta1:  [ 0.         -0.04146653 -0.00940196]\n",
      "P1_cal:  [ 1.90857173 -3.10244563  1.33986665]\n",
      "Q1_cal:  [ 1.04805745 -1.          0.        ]\n",
      "Jacobian:  [[ 53.46186388 -32.46649821  21.48093194]\n",
      " [-33.39932783  67.0592     -15.53362689]\n",
      " [-29.48093194  17.39928613  48.46186388]]\n",
      "I:  [[ 0.         -1.42389079 -0.39379657]\n",
      " [ 1.42389079  0.          1.80459711]\n",
      " [ 0.39379657 -1.80459711  0.        ]]\n",
      "S:  [[ 0.         -1.49508533 -0.4134864 ]\n",
      " [ 1.44190984  0.          1.83151025]\n",
      " [ 0.41152111 -1.88751489  0.        ]]\n",
      "S_loss:  [[ 0.         -2.93699517 -0.82500751]\n",
      " [ 2.93699517  0.          3.71902514]\n",
      " [ 0.82500751 -3.71902514  0.        ]]\n",
      "N:  2\n",
      "self.V1c:  [1.05      +0.j         0.98974019-0.04106463j 1.03995403-0.0097779j ]\n",
      "Del_P1:  [ 0.         -0.89755437  0.66013335]\n",
      "Del_Q1:  [ 0.  -1.5  0. ]\n",
      "abs(Del_P1):  [0.         0.89755437 0.66013335]\n",
      "abs(Del_Q1):  [0.  1.5 0. ]\n",
      "{0: [array([-2.86  ,  1.4384]), array([-1.5,  0. ])], 1: [array([-0.89755437,  0.66013335]), array([-1.5,  0. ])]}\n"
     ]
    },
    {
     "name": "stderr",
     "output_type": "stream",
     "text": [
      "C:\\Users\\y.raghuwanshi\\AppData\\Local\\Temp\\ipykernel_11852\\4008556997.py:138: ComplexWarning: Casting complex values to real discards the imaginary part\n",
      "  self.I[i,k] = (self.V1c[i]-self.V1c[k])*self.Y1[i,k];\n",
      "C:\\Users\\y.raghuwanshi\\AppData\\Local\\Temp\\ipykernel_11852\\4008556997.py:143: ComplexWarning: Casting complex values to real discards the imaginary part\n",
      "  self.S[i,k] = (self.V1c[i])*np.conjugate((self.V1c[i]-self.V1c[k])*self.Y1[i,k]);\n"
     ]
    }
   ],
   "source": [
    "NR = Std_NR(Linedata1, Loaddata1,N=2,Epsilon=1e-14)\n",
    "Y = NR.Y_bus(Linedata1, Loaddata1)\n",
    "V1, Delta1, P1_cal, Q1_cal, Jacobian, I, S, S_loss, N, V1c, Del_P1, Del_Q1, dir_Convergence = NR.Calculations()\n",
    "print(\"V1: \",V1)\n",
    "print(\"Delta1: \",Delta1)\n",
    "print(\"P1_cal: \",P1_cal)\n",
    "print(\"Q1_cal: \",Q1_cal)\n",
    "print(\"Jacobian: \",Jacobian)\n",
    "print(\"I: \",I)\n",
    "print(\"S: \",S)\n",
    "print(\"S_loss: \",S_loss)\n",
    "print(\"N: \",N)\n",
    "print(\"self.V1c: \",V1c)\n",
    "print(\"Del_P1: \",Del_P1)\n",
    "print(\"Del_Q1: \",Del_Q1)\n",
    "print(\"abs(Del_P1): \",abs(Del_P1))\n",
    "print(\"abs(Del_Q1): \",abs(Del_Q1))\n",
    "print(dir_Convergence)"
   ]
  },
  {
   "cell_type": "markdown",
   "metadata": {
    "id": "xt0ONWJKL8qE"
   },
   "source": [
    "# Decoupled Newton Raphson:\n",
    "Explaination_by_Yash: Aforementioned solution method is in accord with  decoupled Newton Raphson. However, we need to erase coupling terms in jacobian for Q-δ and P-V. Furthermore, I dont wanna do everything again! I mean come on! Bachhe ki jaan lenge kya?   "
   ]
  },
  {
   "cell_type": "code",
   "execution_count": 83,
   "metadata": {
    "id": "kr88A8QgMAIt"
   },
   "outputs": [],
   "source": [
    "class DC_NR():\n",
    "  def __init__(self, Linedata1, Loaddata1, N=100, Epsilon=1e-5, S_base=100):\n",
    "    self.Linedata1=Linedata1;\n",
    "    self.Loaddata1=Loaddata1;\n",
    "    self.N = N;\n",
    "    self.Epsilon = Epsilon;\n",
    "    self.S_base = 100; self.j = np.sqrt(-1+0j);\n",
    "    self.Vmin = 0.95; self.Vmax = 1.05;\n",
    "    self.Qmin = -1.0; self.Qmax = 1.0;\n",
    "    self.P1 = np.copy(self.Loaddata1[:,3])/self.S_base;\n",
    "    self.P1_cal = np.zeros(len(self.Loaddata1[:,0]));\n",
    "    self.Q1 = np.copy(self.Loaddata1[:,4])/self.S_base;\n",
    "    self.Q1_cal = np.zeros(len(self.Loaddata1[:,0]));\n",
    "    self.Q1_old = np.copy(self.Loaddata1[:,4])/self.S_base;\n",
    "    self.V1 = np.copy(self.Loaddata1[:,2]);\n",
    "    self.V1_old = np.copy(self.Loaddata1[:,2]);\n",
    "    self.Delta1 = np.zeros(len(self.Loaddata1[:,0]));\n",
    "    self.Jacobian = np.zeros([len(self.Loaddata1[:,0]),len(self.Loaddata1[:,0])])\n",
    "    self.I = np.zeros([len(self.Loaddata1[:,0]),len(self.Loaddata1[:,0])]);\n",
    "    self.S = np.zeros([len(self.Loaddata1[:,0]),len(self.Loaddata1[:,0])]);\n",
    "    self.S_loss = np.zeros([len(self.Loaddata1[:,0]),len(self.Loaddata1[:,0])]);\n",
    "\n",
    "  def common_member(self,a,b):\n",
    "    a_set = set(a)\n",
    "    b_set = set(b)\n",
    "\n",
    "    # check length\n",
    "    if len(a_set.intersection(b_set)) > 0:\n",
    "        return(list(a_set.intersection(b_set)))\n",
    "    else:\n",
    "        return([])\n",
    "\n",
    "  def Y_bus(self,Linedata1, Loaddata1):\n",
    "    Y1= np.zeros([len(self.Loaddata1[:,0]),len(self.Loaddata1[:,0])],dtype=np.complex_);\n",
    "    for i,k in zip(list(self.Linedata1[:,0]),list(self.Linedata1[:,1])):\n",
    "      i = int(i);k=int(k)\n",
    "      # print(f\"This is i: {i} & this is k: {k}\")\n",
    "      Y1[i,k] += -1*(1/(self.Linedata1[self.common_member(np.where(self.Linedata1[:,0]==i)[0],np.where(self.Linedata1[:,1]==k)[0]),2]+self.j*self.Linedata1[self.common_member(np.where(self.Linedata1[:,0]==i)[0],np.where(self.Linedata1[:,1]==k)[0]),3]))[0]\n",
    "    for i in self.Loaddata1[:,0]:\n",
    "      i = int(i);\n",
    "      Y1[i,i] += sum(1/(self.Linedata1[pp,2]+self.j*self.Linedata1[pp,3]) for pp in list(np.where(self.Linedata1[:,0]==i)[0]))\n",
    "    G = np.real(Y1)\n",
    "    B = np.imag(Y1)\n",
    "    return G,B,Y1\n",
    "\n",
    "  def Jacobian_Calculations(self):\n",
    "    # H:\n",
    "    self.H = np.zeros([len(self.Loaddata1[:,0]),len(self.Loaddata1[:,0])])\n",
    "    for i,k in itt.product(self.Loaddata1[:,0],self.Loaddata1[:,0]):\n",
    "      i = int(i); k = int(k);\n",
    "      if self.Loaddata1[k,1] != 0 and self.Loaddata1[i,1] !=0:\n",
    "        if i==k:\n",
    "          self.H[i,k] = -np.real(self.Q1[i])-self.B[i,i]*(abs(self.V1[i])**2);\n",
    "        else:\n",
    "          self.H[i,k] =  abs(self.V1[i])*abs(self.V1[k])*(self.G[i,k]*np.sin(self.Delta1[i]-self.Delta1[k])-self.B[i,k]*np.cos(self.Delta1[i]-self.Delta1[k]))\n",
    "    # N:\n",
    "    self.N = np.zeros([len(self.Loaddata1[:,0]),len(self.Loaddata1[:,0])])\n",
    "    # J:\n",
    "    self.J = np.zeros([len(self.Loaddata1[:,0]),len(self.Loaddata1[:,0])])\n",
    "    # L:\n",
    "    self.L = np.zeros([len(self.Loaddata1[:,0]),len(self.Loaddata1[:,0])])\n",
    "    for i,k in itt.product(self.Loaddata1[:,0],self.Loaddata1[:,0]):\n",
    "      i = int(i); k = int(k);\n",
    "      if self.Loaddata1[i,1] == 1 and self.Loaddata1[k,1] == 1:\n",
    "        if i==k:\n",
    "          self.L[i,k] = np.real(self.Q1[i])-self.B[i,i]*(abs(self.V1[i])**2);\n",
    "        else:\n",
    "          self.L[i,k] =  abs(self.V1[i])*abs(self.V1[k])*(self.G[i,k]*np.sin(self.Delta1[i]-self.Delta1[k])-self.B[i,k]*np.cos(self.Delta1[i]-self.Delta1[k]))\n",
    "    # Formulation:\n",
    "    # self.Jacobian[:len(self.Loaddata1[:,0])-1,:len(self.Loaddata1[:,0])-1] = self.H[1:len(self.Loaddata1[:,0]),1:len(self.Loaddata1[:,0])]\n",
    "    # self.Jacobian[:len(self.Loaddata1[:,0])-1,np.where(self.Loaddata1[:,1]==1)[0]] = self.N[1:len(self.Loaddata1[:,0]),np.where(self.Loaddata1[:,1]==1)[0]]\n",
    "    # self.Jacobian[np.where(self.Loaddata1[:,1]==1)[0],:len(self.Loaddata1[:,0])-1] = self.J[np.where(self.Loaddata1[:,1]==1)[0],1:len(self.Loaddata1[:,0])]\n",
    "    # self.Jacobian[np.where(self.Loaddata1[:,1]==1)[0],np.where(self.Loaddata1[:,1]==1)[0]] = self.L[np.where(self.Loaddata1[:,1]==1)[0],np.where(self.Loaddata1[:,1]==1)[0]]\n",
    "    self.Jacobian[0:2,0:2] = self.H[1:3,1:3]\n",
    "    self.Jacobian[0:2,2] = self.N[1:3,1]\n",
    "    self.Jacobian[2,0:2] = self.J[1,1:3]\n",
    "    self.Jacobian[2,2] = self.L[1,1]\n",
    "      \n",
    "    return self.Jacobian\n",
    "\n",
    "  def Calculations(self):\n",
    "    self.G,self.B,self.Y1 = self.Y_bus(self.Linedata1,self.Loaddata1);\n",
    "    Convergence = {};\n",
    "    for ii in range(self.N):\n",
    "      # print(f\"Yeh hai ii: {ii}\")\n",
    "      for i in self.Loaddata1[:,0]:\n",
    "        i = int(i)\n",
    "        if self.Loaddata1[i,1] != 0:\n",
    "          self.P1_cal[i] = abs(self.V1[i])*sum([self.V1[int(k)]*(self.G[i,int(k)]*np.cos(self.Delta1[i]-self.Delta1[int(k)])+self.B[i,int(k)]*np.sin(self.Delta1[i]-self.Delta1[int(k)])) for k in self.Loaddata1[:,0]])\n",
    "        if self.Loaddata1[i,1] == 1:\n",
    "          self.Q1_cal[i] = abs(self.V1[i])*sum([self.V1[int(k)]*(self.G[i,int(k)]*np.sin(self.Delta1[i]-self.Delta1[int(k)])-self.B[i,int(k)]*np.cos(self.Delta1[i]-self.Delta1[int(k)])) for k in self.Loaddata1[:,0]])\n",
    "      self.Q1_cal[self.Q1_cal<=self.Qmin]=self.Qmin;\n",
    "      self.Q1_cal[self.Q1_cal>=self.Qmax]=self.Qmax;\n",
    "      self.Del_P1 = np.copy(self.P1)-np.copy(self.P1_cal);\n",
    "      self.Del_Q1 = np.copy(self.Q1)-np.copy(self.Q1_cal);\n",
    "      # print(\"Our Epsilon: \",self.Epsilon)\n",
    "      # print(abs(self.Del_P1))\n",
    "      # print(abs(self.Del_Q1))\n",
    "      # print(\"np.all(abs(Del_P1[1:]) < self.Epsilon): \",np.all(abs(self.Del_P1[1:]) < self.Epsilon))\n",
    "      # print(\"abs(Del_P1[1:]) < self.Epsilon: \",abs(self.Del_P1[1:]) < self.Epsilon)\n",
    "      if np.all(abs(self.Del_P1[1:]) < self.Epsilon) and np.all(abs(self.Del_Q1[1:]) < self.Epsilon): #and np.all(abs(Del_Q1[1:]))<= self.Epsilon:\n",
    "        # print(f\"Yeh hai ii during break: {ii}\")\n",
    "        break\n",
    "      # print(\"Reaching\")\n",
    "      self.delY = np.append(np.copy(self.Del_P1[1:]),(self.Del_Q1[np.where(self.Loaddata1[:,1] == 1)]))\n",
    "      self.Jacobian = self.Jacobian_Calculations()\n",
    "      self.delX = np.matmul(np.linalg.inv(self.Jacobian),self.delY)\n",
    "      self.Delta1[np.where(self.Loaddata1[:,1]!=0)[0]] += self.delX[:len(np.where(self.Loaddata1[:,1]!=0)[0])]\n",
    "      self.V1[np.where(self.Loaddata1[:,1]==1)[0]] += self.delX[np.where(self.Loaddata1[:,1]==1)[0]]*self.V1[np.where(self.Loaddata1[:,1]==1)[0]]\n",
    "      self.V1[self.V1<=self.Vmin]=self.Vmin;\n",
    "      self.V1[self.V1>=self.Vmax]=self.Vmax;\n",
    "      Convergence[ii] = [(self.Del_P1[1:]), (self.Del_Q1[1:])];\n",
    "    # print(\"Baba re baba agaya bahar on iteration: \",ii+1)\n",
    "    # Slack bus computations:\n",
    "    self.P1_cal[0] = abs(self.V1[0])*sum([self.V1[int(k)]*(self.G[0,int(k)]*np.cos(self.Delta1[0]-self.Delta1[int(k)])+self.B[0,int(k)]*np.sin(self.Delta1[0]-self.Delta1[int(k)])) for k in self.Loaddata1[:,0]])\n",
    "    self.Q1_cal[0] = abs(self.V1[0])*sum([self.V1[int(k)]*(self.G[0,int(k)]*np.sin(self.Delta1[0]-self.Delta1[int(k)])-self.B[0,int(k)]*np.cos(self.Delta1[0]-self.Delta1[int(k)])) for k in self.Loaddata1[:,0]])\n",
    "\n",
    "    # Line Flows:\n",
    "    ## Branch Currents:\n",
    "    self.V1c = np.copy(self.V1)*(np.cos(self.Delta1)+self.j*np.sin(self.Delta1));\n",
    "    for i,k in zip(list(self.Linedata1[:,0]),list(self.Linedata1[:,1])):\n",
    "      i = int(i);k=int(k);\n",
    "      self.I[i,k] = (self.V1c[i]-self.V1c[k])*self.Y1[i,k];\n",
    "\n",
    "    ## Branch Flow:\n",
    "    for i,k in zip(list(self.Linedata1[:,0]),list(self.Linedata1[:,1])):\n",
    "      i = int(i);k=int(k);\n",
    "      self.S[i,k] = (self.V1c[i])*np.conjugate((self.V1c[i]-self.V1c[k])*self.Y1[i,k]);\n",
    "\n",
    "    ## Branch losses:\n",
    "    for i,k in zip(list(self.Linedata1[:,0]),list(self.Linedata1[:,1])):\n",
    "      i = int(i);k=int(k);\n",
    "      self.S_loss[i,k] = self.S[i,k]-self.S[k,i];\n",
    "\n",
    "    return self.V1, self.Delta1, self.P1_cal, self.Q1_cal, self.Jacobian, self.I, self.S, self.S_loss, ii+1, self.V1c, self.Del_P1, self.Del_Q1, Convergence"
   ]
  },
  {
   "cell_type": "code",
   "execution_count": 84,
   "metadata": {
    "colab": {
     "base_uri": "https://localhost:8080/"
    },
    "id": "_te79Z4-NMWY",
    "outputId": "69a916ab-3975-4a5a-86be-91d8df1683c3"
   },
   "outputs": [
    {
     "name": "stderr",
     "output_type": "stream",
     "text": [
      "C:\\Users\\y.raghuwanshi\\AppData\\Local\\Temp\\ipykernel_11852\\3134140389.py:123: ComplexWarning: Casting complex values to real discards the imaginary part\n",
      "  self.I[i,k] = (self.V1c[i]-self.V1c[k])*self.Y1[i,k];\n",
      "C:\\Users\\y.raghuwanshi\\AppData\\Local\\Temp\\ipykernel_11852\\3134140389.py:128: ComplexWarning: Casting complex values to real discards the imaginary part\n",
      "  self.S[i,k] = (self.V1c[i])*np.conjugate((self.V1c[i]-self.V1c[k])*self.Y1[i,k]);\n"
     ]
    },
    {
     "name": "stdout",
     "output_type": "stream",
     "text": [
      "V1:  [1.05       0.99195123 1.04      ]\n",
      "Delta1:  [ 0.         -0.05502531 -0.00805849]\n",
      "P1_cal:  [ 2.14027632 -4.          2.        ]\n",
      "Q1_cal:  [ 0.90579166 -1.          0.        ]\n",
      "Jacobian:  [[ 53.66629706 -32.20078069   0.        ]\n",
      " [-33.75068595  67.0592       0.        ]\n",
      " [  0.           0.          48.66629706]]\n",
      "I:  [[ 0.         -1.68659865 -0.35175975]\n",
      " [ 1.68659865  0.          2.26983401]\n",
      " [ 0.35175975 -2.26983401  0.        ]]\n",
      "S:  [[ 0.         -1.77092858 -0.36934774]\n",
      " [ 1.70570409  0.          2.29429591]\n",
      " [ 0.36763861 -2.36763861  0.        ]]\n",
      "S_loss:  [[ 0.         -3.47663267 -0.73698635]\n",
      " [ 3.47663267  0.          4.66193452]\n",
      " [ 0.73698635 -4.66193452  0.        ]]\n",
      "N:  100\n",
      "self.V1c:  [1.05      +0.j         0.99044991-0.05455489j 1.03996623-0.00838074j]\n",
      "Del_P1:  [0.00000000e+00 8.88178420e-16 3.33066907e-15]\n",
      "Del_Q1:  [ 0.  -1.5  0. ]\n",
      "abs(Del_P1):  [0.00000000e+00 8.88178420e-16 3.33066907e-15]\n",
      "abs(Del_Q1):  [0.  1.5 0. ]\n",
      "{0: [array([-2.86  ,  1.4384]), array([-1.5,  0. ])], 1: [array([ 0.09297828, -0.12558027]), array([-1.5,  0. ])], 2: [array([ 0.03214469, -0.02222222]), array([-1.5,  0. ])], 3: [array([ 0.00163933, -0.00066829]), array([-1.5,  0. ])], 4: [array([-0.00012363,  0.00012068]), array([-1.5,  0. ])], 5: [array([-2.19673428e-05,  1.42852543e-05]), array([-1.5,  0. ])], 6: [array([-7.16375384e-07,  1.56397394e-07]), array([-1.5,  0. ])], 7: [array([ 1.14414235e-07, -9.78726709e-08]), array([-1.5,  0. ])], 8: [array([ 1.41802543e-08, -8.62416982e-09]), array([-1.5,  0. ])], 9: [array([1.96562766e-10, 9.77535830e-11]), array([-1.5,  0. ])], 10: [array([-9.40203471e-11,  7.36632977e-11]), array([-1.5,  0. ])], 11: [array([-8.64019967e-12,  4.83613150e-12]), array([-1.5,  0. ])], 12: [array([ 6.48370246e-14, -1.96287431e-13]), array([-1.5,  0. ])], 13: [array([ 7.01660952e-14, -5.59552404e-14]), array([-1.5,  0. ])], 14: [array([ 9.76996262e-15, -4.44089210e-16]), array([-1.5,  0. ])], 15: [array([-3.99680289e-15,  3.33066907e-15]), array([-1.5,  0. ])], 16: [array([-4.44089210e-16, -3.99680289e-15]), array([-1.5,  0. ])], 17: [array([ 8.8817842e-16, -4.4408921e-16]), array([-1.5,  0. ])], 18: [array([8.88178420e-16, 3.33066907e-15]), array([-1.5,  0. ])], 19: [array([-3.99680289e-15, -3.99680289e-15]), array([-1.5,  0. ])], 20: [array([6.21724894e-15, 3.33066907e-15]), array([-1.5,  0. ])], 21: [array([-3.99680289e-15, -4.44089210e-16]), array([-1.5,  0. ])], 22: [array([ 4.44089210e-15, -3.99680289e-15]), array([-1.5,  0. ])], 23: [array([-8.88178420e-16,  3.33066907e-15]), array([-1.5,  0. ])], 24: [array([-3.99680289e-15,  3.33066907e-15]), array([-1.5,  0. ])], 25: [array([ 8.88178420e-16, -3.99680289e-15]), array([-1.5,  0. ])], 26: [array([ 8.8817842e-16, -4.4408921e-16]), array([-1.5,  0. ])], 27: [array([8.88178420e-16, 3.33066907e-15]), array([-1.5,  0. ])], 28: [array([-3.99680289e-15, -3.99680289e-15]), array([-1.5,  0. ])], 29: [array([ 2.66453526e-15, -4.44089210e-16]), array([-1.5,  0. ])], 30: [array([8.88178420e-16, 3.33066907e-15]), array([-1.5,  0. ])], 31: [array([-3.99680289e-15,  3.33066907e-15]), array([-1.5,  0. ])], 32: [array([ 8.88178420e-16, -3.99680289e-15]), array([-1.5,  0. ])], 33: [array([ 4.4408921e-15, -4.4408921e-16]), array([-1.5,  0. ])], 34: [array([-8.8817842e-16, -4.4408921e-16]), array([-1.5,  0. ])], 35: [array([-8.8817842e-16, -4.4408921e-16]), array([-1.5,  0. ])], 36: [array([ 8.8817842e-16, -4.4408921e-16]), array([-1.5,  0. ])], 37: [array([-8.8817842e-16, -4.4408921e-16]), array([-1.5,  0. ])], 38: [array([8.88178420e-16, 3.33066907e-15]), array([-1.5,  0. ])], 39: [array([-3.99680289e-15, -4.44089210e-16]), array([-1.5,  0. ])], 40: [array([ 4.44089210e-15, -3.99680289e-15]), array([-1.5,  0. ])], 41: [array([-8.88178420e-16,  3.33066907e-15]), array([-1.5,  0. ])], 42: [array([-3.99680289e-15,  3.33066907e-15]), array([-1.5,  0. ])], 43: [array([ 8.88178420e-16, -3.99680289e-15]), array([-1.5,  0. ])], 44: [array([ 8.8817842e-16, -4.4408921e-16]), array([-1.5,  0. ])], 45: [array([8.88178420e-16, 3.33066907e-15]), array([-1.5,  0. ])], 46: [array([-3.99680289e-15, -3.99680289e-15]), array([-1.5,  0. ])], 47: [array([6.21724894e-15, 3.33066907e-15]), array([-1.5,  0. ])], 48: [array([-3.99680289e-15, -4.44089210e-16]), array([-1.5,  0. ])], 49: [array([ 4.44089210e-15, -3.99680289e-15]), array([-1.5,  0. ])], 50: [array([-8.88178420e-16,  3.33066907e-15]), array([-1.5,  0. ])], 51: [array([-3.99680289e-15,  3.33066907e-15]), array([-1.5,  0. ])], 52: [array([-4.44089210e-16, -3.99680289e-15]), array([-1.5,  0. ])], 53: [array([ 8.8817842e-16, -4.4408921e-16]), array([-1.5,  0. ])], 54: [array([8.88178420e-16, 3.33066907e-15]), array([-1.5,  0. ])], 55: [array([-3.99680289e-15, -3.99680289e-15]), array([-1.5,  0. ])], 56: [array([6.21724894e-15, 3.33066907e-15]), array([-1.5,  0. ])], 57: [array([-3.99680289e-15, -4.44089210e-16]), array([-1.5,  0. ])], 58: [array([ 4.44089210e-15, -3.99680289e-15]), array([-1.5,  0. ])], 59: [array([-8.88178420e-16,  3.33066907e-15]), array([-1.5,  0. ])], 60: [array([-3.99680289e-15,  3.33066907e-15]), array([-1.5,  0. ])], 61: [array([ 8.88178420e-16, -3.99680289e-15]), array([-1.5,  0. ])], 62: [array([ 8.8817842e-16, -4.4408921e-16]), array([-1.5,  0. ])], 63: [array([8.88178420e-16, 3.33066907e-15]), array([-1.5,  0. ])], 64: [array([-3.99680289e-15, -3.99680289e-15]), array([-1.5,  0. ])], 65: [array([ 2.66453526e-15, -4.44089210e-16]), array([-1.5,  0. ])], 66: [array([8.88178420e-16, 3.33066907e-15]), array([-1.5,  0. ])], 67: [array([-3.99680289e-15,  3.33066907e-15]), array([-1.5,  0. ])], 68: [array([ 8.88178420e-16, -3.99680289e-15]), array([-1.5,  0. ])], 69: [array([ 4.4408921e-15, -4.4408921e-16]), array([-1.5,  0. ])], 70: [array([-8.8817842e-16, -4.4408921e-16]), array([-1.5,  0. ])], 71: [array([-8.8817842e-16, -4.4408921e-16]), array([-1.5,  0. ])], 72: [array([ 8.8817842e-16, -4.4408921e-16]), array([-1.5,  0. ])], 73: [array([-8.8817842e-16, -4.4408921e-16]), array([-1.5,  0. ])], 74: [array([8.88178420e-16, 3.33066907e-15]), array([-1.5,  0. ])], 75: [array([-3.99680289e-15, -4.44089210e-16]), array([-1.5,  0. ])], 76: [array([ 4.44089210e-15, -3.99680289e-15]), array([-1.5,  0. ])], 77: [array([-8.88178420e-16,  3.33066907e-15]), array([-1.5,  0. ])], 78: [array([-3.99680289e-15,  3.33066907e-15]), array([-1.5,  0. ])], 79: [array([ 8.88178420e-16, -3.99680289e-15]), array([-1.5,  0. ])], 80: [array([ 8.8817842e-16, -4.4408921e-16]), array([-1.5,  0. ])], 81: [array([8.88178420e-16, 3.33066907e-15]), array([-1.5,  0. ])], 82: [array([-3.99680289e-15, -3.99680289e-15]), array([-1.5,  0. ])], 83: [array([6.21724894e-15, 3.33066907e-15]), array([-1.5,  0. ])], 84: [array([-3.99680289e-15, -4.44089210e-16]), array([-1.5,  0. ])], 85: [array([ 4.44089210e-15, -3.99680289e-15]), array([-1.5,  0. ])], 86: [array([-8.88178420e-16,  3.33066907e-15]), array([-1.5,  0. ])], 87: [array([-3.99680289e-15,  3.33066907e-15]), array([-1.5,  0. ])], 88: [array([-4.44089210e-16, -3.99680289e-15]), array([-1.5,  0. ])], 89: [array([ 8.8817842e-16, -4.4408921e-16]), array([-1.5,  0. ])], 90: [array([8.88178420e-16, 3.33066907e-15]), array([-1.5,  0. ])], 91: [array([-3.99680289e-15, -3.99680289e-15]), array([-1.5,  0. ])], 92: [array([6.21724894e-15, 3.33066907e-15]), array([-1.5,  0. ])], 93: [array([-3.99680289e-15, -4.44089210e-16]), array([-1.5,  0. ])], 94: [array([ 4.44089210e-15, -3.99680289e-15]), array([-1.5,  0. ])], 95: [array([-8.88178420e-16,  3.33066907e-15]), array([-1.5,  0. ])], 96: [array([-3.99680289e-15,  3.33066907e-15]), array([-1.5,  0. ])], 97: [array([ 8.88178420e-16, -3.99680289e-15]), array([-1.5,  0. ])], 98: [array([ 8.8817842e-16, -4.4408921e-16]), array([-1.5,  0. ])], 99: [array([8.88178420e-16, 3.33066907e-15]), array([-1.5,  0. ])]}\n"
     ]
    }
   ],
   "source": [
    "NR = DC_NR(Linedata1, Loaddata1,N=100,Epsilon=1e-14)\n",
    "Y = NR.Y_bus(Linedata1, Loaddata1)\n",
    "V1, Delta1, P1_cal, Q1_cal, Jacobian, I, S, S_loss, N, V1c, Del_P1, Del_Q1, dir_Convergence = NR.Calculations()\n",
    "print(\"V1: \",V1)\n",
    "print(\"Delta1: \",Delta1)\n",
    "print(\"P1_cal: \",P1_cal)\n",
    "print(\"Q1_cal: \",Q1_cal)\n",
    "print(\"Jacobian: \",Jacobian)\n",
    "print(\"I: \",I)\n",
    "print(\"S: \",S)\n",
    "print(\"S_loss: \",S_loss)\n",
    "print(\"N: \",N)\n",
    "print(\"self.V1c: \",V1c)\n",
    "print(\"Del_P1: \",Del_P1)\n",
    "print(\"Del_Q1: \",Del_Q1)\n",
    "print(\"abs(Del_P1): \",abs(Del_P1))\n",
    "print(\"abs(Del_Q1): \",abs(Del_Q1))\n",
    "print(dir_Convergence)"
   ]
  },
  {
   "cell_type": "markdown",
   "metadata": {
    "id": "8K9Zw1lxOHiY"
   },
   "source": [
    "# Fast Decoupled Load Flow:\n",
    "Explaination_by_Yash: The jacobian in fast decoupled load flow become constant after following assumptions:\n",
    "1. |V| ~ 1.\n",
    "2. X/R >> 1.\n",
    "3. δ almost constant through out the system.  \n",
    "4. Jaldi Jaldi Jacobian ko constant karke nipta deta hun... kal subah Panwel bhi nikalna hai..."
   ]
  },
  {
   "cell_type": "code",
   "execution_count": 85,
   "metadata": {
    "id": "_6mJ4odcOTby"
   },
   "outputs": [],
   "source": [
    "class FDLF():\n",
    "  def __init__(self, Linedata1, Loaddata1, N=100, Epsilon=1e-5, S_base=100):\n",
    "    self.Linedata1=Linedata1;\n",
    "    self.Loaddata1=Loaddata1;\n",
    "    self.N0 = N;\n",
    "    self.Epsilon = Epsilon;\n",
    "    self.S_base = 100; self.j = np.sqrt(-1+0j);\n",
    "    self.Vmin = 0.95; self.Vmax = 1.05;\n",
    "    self.Qmin = -1.0; self.Qmax = 1.0;\n",
    "    self.P1 = np.copy(self.Loaddata1[:,3])/self.S_base;\n",
    "    self.P1_cal = np.zeros(len(self.Loaddata1[:,0]));\n",
    "    self.Q1 = np.copy(self.Loaddata1[:,4])/self.S_base;\n",
    "    self.Q1_cal = np.zeros(len(self.Loaddata1[:,0]));\n",
    "    self.Q1_old = np.copy(self.Loaddata1[:,4])/self.S_base;\n",
    "    self.V1 = np.copy(self.Loaddata1[:,2]);\n",
    "    self.V1_old = np.copy(self.Loaddata1[:,2]);\n",
    "    self.Delta1 = np.zeros(len(self.Loaddata1[:,0]));\n",
    "    self.Jacobian = np.zeros([len(self.Loaddata1[:,0]),len(self.Loaddata1[:,0])])\n",
    "    self.I = np.zeros([len(self.Loaddata1[:,0]),len(self.Loaddata1[:,0])]);\n",
    "    self.S = np.zeros([len(self.Loaddata1[:,0]),len(self.Loaddata1[:,0])]);\n",
    "    self.S_loss = np.zeros([len(self.Loaddata1[:,0]),len(self.Loaddata1[:,0])]);\n",
    "\n",
    "  def common_member(self,a,b):\n",
    "    a_set = set(a)\n",
    "    b_set = set(b)\n",
    "\n",
    "    # check length\n",
    "    if len(a_set.intersection(b_set)) > 0:\n",
    "        return(list(a_set.intersection(b_set)))\n",
    "    else:\n",
    "        return([])\n",
    "\n",
    "  def Y_bus(self,Linedata1, Loaddata1):\n",
    "    Y1= np.zeros([len(self.Loaddata1[:,0]),len(self.Loaddata1[:,0])],dtype=np.complex_);\n",
    "    for i,k in zip(list(self.Linedata1[:,0]),list(self.Linedata1[:,1])):\n",
    "      i = int(i);k=int(k)\n",
    "      # print(f\"This is i: {i} & this is k: {k}\")\n",
    "      Y1[i,k] += -1*(1/(self.Linedata1[self.common_member(np.where(self.Linedata1[:,0]==i)[0],np.where(self.Linedata1[:,1]==k)[0]),2]+self.j*self.Linedata1[self.common_member(np.where(self.Linedata1[:,0]==i)[0],np.where(self.Linedata1[:,1]==k)[0]),3]))[0]\n",
    "    for i in self.Loaddata1[:,0]:\n",
    "      i = int(i);\n",
    "      Y1[i,i] += sum(1/(self.Linedata1[pp,2]+self.j*self.Linedata1[pp,3]) for pp in list(np.where(self.Linedata1[:,0]==i)[0]))\n",
    "    G = np.real(Y1)\n",
    "    B = np.imag(Y1)\n",
    "    return G,B,Y1\n",
    "\n",
    "  def Jacobian_Calculations(self):\n",
    "    # H:\n",
    "    self.H = np.zeros([len(self.Loaddata1[:,0]),len(self.Loaddata1[:,0])])\n",
    "    for i,k in itt.product(self.Loaddata1[:,0],self.Loaddata1[:,0]):\n",
    "      i = int(i); k = int(k);\n",
    "      if self.Loaddata1[k,1] != 0 and self.Loaddata1[i,1] !=0:\n",
    "        if i==k:\n",
    "          self.H[i,k] = -self.B[i,i];\n",
    "        else:\n",
    "          self.H[i,k] =  -self.B[i,k];\n",
    "    # N:\n",
    "    self.N = np.zeros([len(self.Loaddata1[:,0]),len(self.Loaddata1[:,0])])\n",
    "    # J:\n",
    "    self.J = np.zeros([len(self.Loaddata1[:,0]),len(self.Loaddata1[:,0])])\n",
    "    # L:\n",
    "    self.L = np.zeros([len(self.Loaddata1[:,0]),len(self.Loaddata1[:,0])])\n",
    "    for i,k in itt.product(self.Loaddata1[:,0],self.Loaddata1[:,0]):\n",
    "      i = int(i); k = int(k);\n",
    "      if self.Loaddata1[i,1] == 1 and self.Loaddata1[k,1] == 1:\n",
    "        if i==k:\n",
    "          self.L[i,k] = -self.B[i,i];\n",
    "        else:\n",
    "          self.L[i,k] =  -self.B[i,k];\n",
    "    # Formulation:\n",
    "    # self.Jacobian[:len(self.Loaddata1[:,0])-1,:len(self.Loaddata1[:,0])-1] = self.H[1:len(self.Loaddata1[:,0]),1:len(self.Loaddata1[:,0])]\n",
    "    # self.Jacobian[:len(self.Loaddata1[:,0])-1,np.where(self.Loaddata1[:,1]==1)[0]] = self.N[1:len(self.Loaddata1[:,0]),np.where(self.Loaddata1[:,1]==1)[0]]\n",
    "    # self.Jacobian[np.where(self.Loaddata1[:,1]==1)[0],:len(self.Loaddata1[:,0])-1] = self.J[np.where(self.Loaddata1[:,1]==1)[0],1:len(self.Loaddata1[:,0])]\n",
    "    # self.Jacobian[np.where(self.Loaddata1[:,1]==1)[0],np.where(self.Loaddata1[:,1]==1)[0]] = self.L[np.where(self.Loaddata1[:,1]==1)[0],np.where(self.Loaddata1[:,1]==1)[0]]\n",
    "    self.Jacobian[0:2,0:2] = self.H[1:3,1:3]\n",
    "    self.Jacobian[0:2,2] = self.N[1:3,1]\n",
    "    self.Jacobian[2,0:2] = self.J[1,1:3]\n",
    "    self.Jacobian[2,2] = self.L[1,1]\n",
    "      \n",
    "    return self.Jacobian\n",
    "\n",
    "  def Calculations(self):\n",
    "    self.G,self.B,self.Y1 = self.Y_bus(self.Linedata1,self.Loaddata1);\n",
    "    self.Jacobian = self.Jacobian_Calculations()\n",
    "    print(self.Jacobian)\n",
    "    Convergence = {};\n",
    "    print(\"self.N\",self.N)\n",
    "    for ii in range(self.N0):\n",
    "      # print(f\"Yeh hai ii: {ii}\")\n",
    "      for i in self.Loaddata1[:,0]:\n",
    "        i = int(i)\n",
    "        if self.Loaddata1[i,1] != 0:\n",
    "          self.P1_cal[i] = abs(self.V1[i])*sum([self.V1[int(k)]*(self.G[i,int(k)]*np.cos(self.Delta1[i]-self.Delta1[int(k)])+self.B[i,int(k)]*np.sin(self.Delta1[i]-self.Delta1[int(k)])) for k in self.Loaddata1[:,0]])\n",
    "        if self.Loaddata1[i,1] == 1:\n",
    "          self.Q1_cal[i] = abs(self.V1[i])*sum([self.V1[int(k)]*(self.G[i,int(k)]*np.sin(self.Delta1[i]-self.Delta1[int(k)])-self.B[i,int(k)]*np.cos(self.Delta1[i]-self.Delta1[int(k)])) for k in self.Loaddata1[:,0]])\n",
    "      self.Q1_cal[self.Q1_cal<=self.Qmin]=self.Qmin;\n",
    "      self.Q1_cal[self.Q1_cal>=self.Qmax]=self.Qmax;\n",
    "      self.Del_P1 = np.copy(self.P1)-np.copy(self.P1_cal);\n",
    "      self.Del_Q1 = np.copy(self.Q1)-np.copy(self.Q1_cal);\n",
    "      # print(\"Our Epsilon: \",self.Epsilon)\n",
    "      # print(abs(self.Del_P1))\n",
    "      # print(abs(self.Del_Q1))\n",
    "      # print(\"np.all(abs(Del_P1[1:]) < self.Epsilon): \",np.all(abs(self.Del_P1[1:]) < self.Epsilon))\n",
    "      # print(\"abs(Del_P1[1:]) < self.Epsilon: \",abs(self.Del_P1[1:]) < self.Epsilon)\n",
    "      if np.all(abs(self.Del_P1[1:]) < self.Epsilon) and np.all(abs(self.Del_Q1[1:]) < self.Epsilon): #and np.all(abs(Del_Q1[1:]))<= self.Epsilon:\n",
    "        # print(f\"Yeh hai ii during break: {ii}\")\n",
    "        break\n",
    "      # print(\"Reaching\")\n",
    "      self.delY = np.append(np.copy(self.Del_P1[1:])/np.copy(self.V1[1:]),(self.Del_Q1[np.where(self.Loaddata1[:,1] == 1)]/np.copy(self.V1[np.where(self.Loaddata1[:,1] == 1)])))\n",
    "      self.delX = np.matmul(np.linalg.inv(self.Jacobian),self.delY)\n",
    "      self.Delta1[np.where(self.Loaddata1[:,1]!=0)[0]] += self.delX[:len(np.where(self.Loaddata1[:,1]!=0)[0])]\n",
    "      self.V1[np.where(self.Loaddata1[:,1]==1)[0]] += self.delX[np.where(self.Loaddata1[:,1]==1)[0]]*self.V1[np.where(self.Loaddata1[:,1]==1)[0]]\n",
    "      self.V1[self.V1<=self.Vmin]=self.Vmin;\n",
    "      self.V1[self.V1>=self.Vmax]=self.Vmax;\n",
    "      Convergence[ii] = [(self.Del_P1[1:]), (self.Del_Q1[1:])];\n",
    "    # print(\"Baba re baba agaya bahar on iteration: \",ii+1)\n",
    "    # Slack bus computations:\n",
    "    self.P1_cal[0] = abs(self.V1[0])*sum([self.V1[int(k)]*(self.G[0,int(k)]*np.cos(self.Delta1[0]-self.Delta1[int(k)])+self.B[0,int(k)]*np.sin(self.Delta1[0]-self.Delta1[int(k)])) for k in self.Loaddata1[:,0]])\n",
    "    self.Q1_cal[0] = abs(self.V1[0])*sum([self.V1[int(k)]*(self.G[0,int(k)]*np.sin(self.Delta1[0]-self.Delta1[int(k)])-self.B[0,int(k)]*np.cos(self.Delta1[0]-self.Delta1[int(k)])) for k in self.Loaddata1[:,0]])\n",
    "\n",
    "    # Line Flows:\n",
    "    ## Branch Currents:\n",
    "    self.V1c = np.copy(self.V1)*(np.cos(self.Delta1)+self.j*np.sin(self.Delta1));\n",
    "    for i,k in zip(list(self.Linedata1[:,0]),list(self.Linedata1[:,1])):\n",
    "      i = int(i);k=int(k);\n",
    "      self.I[i,k] = (self.V1c[i]-self.V1c[k])*self.Y1[i,k];\n",
    "\n",
    "    ## Branch Flow:\n",
    "    for i,k in zip(list(self.Linedata1[:,0]),list(self.Linedata1[:,1])):\n",
    "      i = int(i);k=int(k);\n",
    "      self.S[i,k] = (self.V1c[i])*np.conjugate((self.V1c[i]-self.V1c[k])*self.Y1[i,k]);\n",
    "\n",
    "    ## Branch losses:\n",
    "    for i,k in zip(list(self.Linedata1[:,0]),list(self.Linedata1[:,1])):\n",
    "      i = int(i);k=int(k);\n",
    "      self.S_loss[i,k] = self.S[i,k]-self.S[k,i];\n",
    "\n",
    "    return self.V1, self.Delta1, self.P1_cal, self.Q1_cal, self.Jacobian, self.I, self.S, self.S_loss, ii+1, self.V1c, self.Del_P1, self.Del_Q1, Convergence"
   ]
  },
  {
   "cell_type": "code",
   "execution_count": 86,
   "metadata": {
    "colab": {
     "base_uri": "https://localhost:8080/"
    },
    "id": "yhdh4GNrTHzE",
    "outputId": "39b2d88f-4392-49a0-b266-a65eee7c867a"
   },
   "outputs": [
    {
     "name": "stdout",
     "output_type": "stream",
     "text": [
      "[[ 52. -32.   0.]\n",
      " [-32.  62.   0.]\n",
      " [  0.   0.  52.]]\n",
      "self.N [[0. 0. 0.]\n",
      " [0. 0. 0.]\n",
      " [0. 0. 0.]]\n",
      "V1:  [1.05       0.99193352 1.04      ]\n",
      "Delta1:  [ 0.         -0.05501821 -0.0080589 ]\n",
      "P1_cal:  [ 2.14030322 -4.          2.        ]\n",
      "Q1_cal:  [ 0.90623476 -1.          0.        ]\n",
      "Jacobian:  [[ 52. -32.   0.]\n",
      " [-32.  62.   0.]\n",
      " [  0.   0.  52.]]\n",
      "I:  [[ 0.         -1.68661151 -0.35177252]\n",
      " [ 1.68661151  0.          2.26984094]\n",
      " [ 0.35177252 -2.26984094  0.        ]]\n",
      "S:  [[ 0.         -1.77094208 -0.36936114]\n",
      " [ 1.70570571  0.          2.29429429]\n",
      " [ 0.36765194 -2.36765194  0.        ]]\n",
      "S_loss:  [[ 0.         -3.4766478  -0.73701309]\n",
      " [ 3.4766478   0.          4.66194623]\n",
      " [ 0.73701309 -4.66194623  0.        ]]\n",
      "N:  100\n",
      "self.V1c:  [1.05      +0.j         0.9904326 -0.05454688j 1.03996623-0.00838116j]\n",
      "Del_P1:  [ 0.00000000e+00  5.32907052e-15 -3.99680289e-15]\n",
      "Del_Q1:  [ 0.  -1.5  0. ]\n",
      "abs(Del_P1):  [0.00000000e+00 5.32907052e-15 3.99680289e-15]\n",
      "abs(Del_Q1):  [0.  1.5 0. ]\n",
      "{0: [array([-2.86  ,  1.4384]), array([-1.5,  0. ])], 1: [array([ 0.27682855, -0.14066876]), array([-1.5,  0. ])], 2: [array([-0.02290317,  0.01404534]), array([-1.5,  0. ])], 3: [array([ 0.00073837, -0.00042849]), array([-1.5,  0. ])], 4: [array([-3.56762528e-05,  2.11945666e-05]), array([-1.5,  0. ])], 5: [array([ 1.48246753e-06, -8.75807592e-07]), array([-1.5,  0. ])], 6: [array([-6.40103863e-08,  3.78716873e-08]), array([-1.5,  0. ])], 7: [array([ 2.73639866e-09, -1.61837699e-09]), array([-1.5,  0. ])], 8: [array([-1.17279964e-10,  6.93698432e-11]), array([-1.5,  0. ])], 9: [array([ 5.02264896e-12, -2.97095681e-12]), array([-1.5,  0. ])], 10: [array([-2.19824159e-13,  1.29007915e-13]), array([-1.5,  0. ])], 11: [array([ 1.86517468e-14, -3.99680289e-15]), array([-1.5,  0. ])], 12: [array([-8.88178420e-15,  3.33066907e-15]), array([-1.5,  0. ])], 13: [array([-1.77635684e-15, -3.99680289e-15]), array([-1.5,  0. ])], 14: [array([ 5.32907052e-15, -4.44089210e-16]), array([-1.5,  0. ])], 15: [array([-1.77635684e-15,  3.33066907e-15]), array([-1.5,  0. ])], 16: [array([-1.77635684e-15, -4.44089210e-16]), array([-1.5,  0. ])], 17: [array([-1.77635684e-15, -3.99680289e-15]), array([-1.5,  0. ])], 18: [array([7.10542736e-15, 3.33066907e-15]), array([-1.5,  0. ])], 19: [array([-6.66133815e-15,  3.33066907e-15]), array([-1.5,  0. ])], 20: [array([-1.33226763e-15, -4.44089210e-16]), array([-1.5,  0. ])], 21: [array([ 2.66453526e-15, -3.99680289e-15]), array([-1.5,  0. ])], 22: [array([-1.33226763e-15,  3.33066907e-15]), array([-1.5,  0. ])], 23: [array([-4.44089210e-15,  3.33066907e-15]), array([-1.5,  0. ])], 24: [array([-8.88178420e-16, -3.99680289e-15]), array([-1.5,  0. ])], 25: [array([4.44089210e-15, 3.33066907e-15]), array([-1.5,  0. ])], 26: [array([-4.44089210e-15, -3.99680289e-15]), array([-1.5,  0. ])], 27: [array([4.44089210e-15, 3.33066907e-15]), array([-1.5,  0. ])], 28: [array([-4.4408921e-15, -4.4408921e-16]), array([-1.5,  0. ])], 29: [array([ 4.44089210e-15, -3.99680289e-15]), array([-1.5,  0. ])], 30: [array([-1.33226763e-15,  3.33066907e-15]), array([-1.5,  0. ])], 31: [array([-8.8817842e-16, -4.4408921e-16]), array([-1.5,  0. ])], 32: [array([8.88178420e-16, 3.33066907e-15]), array([-1.5,  0. ])], 33: [array([-4.4408921e-16, -4.4408921e-16]), array([-1.5,  0. ])], 34: [array([-4.44089210e-16,  3.33066907e-15]), array([-1.5,  0. ])], 35: [array([-7.10542736e-15, -3.99680289e-15]), array([-1.5,  0. ])], 36: [array([ 6.21724894e-15, -4.44089210e-16]), array([-1.5,  0. ])], 37: [array([1.77635684e-15, 3.33066907e-15]), array([-1.5,  0. ])], 38: [array([-7.10542736e-15, -4.44089210e-16]), array([-1.5,  0. ])], 39: [array([ 7.10542736e-15, -4.44089210e-16]), array([-1.5,  0. ])], 40: [array([-7.10542736e-15,  3.33066907e-15]), array([-1.5,  0. ])], 41: [array([ 1.77635684e-15, -3.99680289e-15]), array([-1.5,  0. ])], 42: [array([ 5.32907052e-15, -3.99680289e-15]), array([-1.5,  0. ])], 43: [array([-4.44089210e-16,  3.33066907e-15]), array([-1.5,  0. ])], 44: [array([-3.55271368e-15,  3.33066907e-15]), array([-1.5,  0. ])], 45: [array([ 1.77635684e-15, -3.99680289e-15]), array([-1.5,  0. ])], 46: [array([ 1.77635684e-15, -4.44089210e-16]), array([-1.5,  0. ])], 47: [array([-4.44089210e-16,  3.33066907e-15]), array([-1.5,  0. ])], 48: [array([-3.55271368e-15, -4.44089210e-16]), array([-1.5,  0. ])], 49: [array([ 5.32907052e-15, -3.99680289e-15]), array([-1.5,  0. ])], 50: [array([-4.44089210e-16,  3.33066907e-15]), array([-1.5,  0. ])], 51: [array([-7.10542736e-15,  3.33066907e-15]), array([-1.5,  0. ])], 52: [array([ 1.77635684e-15, -3.99680289e-15]), array([-1.5,  0. ])], 53: [array([ 5.32907052e-15, -3.99680289e-15]), array([-1.5,  0. ])], 54: [array([-4.44089210e-16,  3.33066907e-15]), array([-1.5,  0. ])], 55: [array([-3.55271368e-15,  3.33066907e-15]), array([-1.5,  0. ])], 56: [array([ 0.00000000e+00, -3.99680289e-15]), array([-1.5,  0. ])], 57: [array([1.77635684e-15, 3.33066907e-15]), array([-1.5,  0. ])], 58: [array([ 0.0000000e+00, -4.4408921e-16]), array([-1.5,  0. ])], 59: [array([-3.55271368e-15, -4.44089210e-16]), array([-1.5,  0. ])], 60: [array([ 5.32907052e-15, -3.99680289e-15]), array([-1.5,  0. ])], 61: [array([-4.44089210e-16,  3.33066907e-15]), array([-1.5,  0. ])], 62: [array([-3.55271368e-15,  3.33066907e-15]), array([-1.5,  0. ])], 63: [array([ 0.00000000e+00, -3.99680289e-15]), array([-1.5,  0. ])], 64: [array([ 5.32907052e-15, -4.44089210e-16]), array([-1.5,  0. ])], 65: [array([-7.10542736e-15,  3.33066907e-15]), array([-1.5,  0. ])], 66: [array([ 1.77635684e-15, -4.44089210e-16]), array([-1.5,  0. ])], 67: [array([ 1.77635684e-15, -3.99680289e-15]), array([-1.5,  0. ])], 68: [array([ 1.77635684e-15, -4.44089210e-16]), array([-1.5,  0. ])], 69: [array([-4.44089210e-16,  3.33066907e-15]), array([-1.5,  0. ])], 70: [array([-3.55271368e-15, -4.44089210e-16]), array([-1.5,  0. ])], 71: [array([ 5.32907052e-15, -3.99680289e-15]), array([-1.5,  0. ])], 72: [array([-4.44089210e-16,  3.33066907e-15]), array([-1.5,  0. ])], 73: [array([-7.10542736e-15,  3.33066907e-15]), array([-1.5,  0. ])], 74: [array([ 1.77635684e-15, -3.99680289e-15]), array([-1.5,  0. ])], 75: [array([5.32907052e-15, 3.33066907e-15]), array([-1.5,  0. ])], 76: [array([-7.10542736e-15, -4.44089210e-16]), array([-1.5,  0. ])], 77: [array([ 5.32907052e-15, -3.99680289e-15]), array([-1.5,  0. ])], 78: [array([-4.44089210e-16,  3.33066907e-15]), array([-1.5,  0. ])], 79: [array([-3.55271368e-15, -4.44089210e-16]), array([-1.5,  0. ])], 80: [array([ 5.32907052e-15, -3.99680289e-15]), array([-1.5,  0. ])], 81: [array([-4.44089210e-16,  3.33066907e-15]), array([-1.5,  0. ])], 82: [array([-7.10542736e-15,  3.33066907e-15]), array([-1.5,  0. ])], 83: [array([ 1.77635684e-15, -3.99680289e-15]), array([-1.5,  0. ])], 84: [array([ 5.32907052e-15, -4.44089210e-16]), array([-1.5,  0. ])], 85: [array([-3.55271368e-15,  3.33066907e-15]), array([-1.5,  0. ])], 86: [array([ 0.00000000e+00, -3.99680289e-15]), array([-1.5,  0. ])], 87: [array([1.77635684e-15, 3.33066907e-15]), array([-1.5,  0. ])], 88: [array([-3.55271368e-15, -4.44089210e-16]), array([-1.5,  0. ])], 89: [array([ 5.32907052e-15, -3.99680289e-15]), array([-1.5,  0. ])], 90: [array([-4.44089210e-16,  3.33066907e-15]), array([-1.5,  0. ])], 91: [array([-7.10542736e-15,  3.33066907e-15]), array([-1.5,  0. ])], 92: [array([ 1.77635684e-15, -3.99680289e-15]), array([-1.5,  0. ])], 93: [array([ 5.32907052e-15, -3.99680289e-15]), array([-1.5,  0. ])], 94: [array([-4.44089210e-16,  3.33066907e-15]), array([-1.5,  0. ])], 95: [array([-3.55271368e-15,  3.33066907e-15]), array([-1.5,  0. ])], 96: [array([ 0.00000000e+00, -3.99680289e-15]), array([-1.5,  0. ])], 97: [array([5.32907052e-15, 3.33066907e-15]), array([-1.5,  0. ])], 98: [array([-7.10542736e-15, -4.44089210e-16]), array([-1.5,  0. ])], 99: [array([ 5.32907052e-15, -3.99680289e-15]), array([-1.5,  0. ])]}\n"
     ]
    },
    {
     "name": "stderr",
     "output_type": "stream",
     "text": [
      "C:\\Users\\y.raghuwanshi\\AppData\\Local\\Temp\\ipykernel_11852\\799588279.py:125: ComplexWarning: Casting complex values to real discards the imaginary part\n",
      "  self.I[i,k] = (self.V1c[i]-self.V1c[k])*self.Y1[i,k];\n",
      "C:\\Users\\y.raghuwanshi\\AppData\\Local\\Temp\\ipykernel_11852\\799588279.py:130: ComplexWarning: Casting complex values to real discards the imaginary part\n",
      "  self.S[i,k] = (self.V1c[i])*np.conjugate((self.V1c[i]-self.V1c[k])*self.Y1[i,k]);\n"
     ]
    }
   ],
   "source": [
    "FDLF = FDLF(Linedata1, Loaddata1,N=100,Epsilon=1e-14)\n",
    "Y = FDLF.Y_bus(Linedata1, Loaddata1)\n",
    "V1, Delta1, P1_cal, Q1_cal, Jacobian, I, S, S_loss, N, V1c, Del_P1, Del_Q1, dir_Convergence = FDLF.Calculations()\n",
    "print(\"V1: \",V1)\n",
    "print(\"Delta1: \",Delta1)\n",
    "print(\"P1_cal: \",P1_cal)\n",
    "print(\"Q1_cal: \",Q1_cal)\n",
    "print(\"Jacobian: \",Jacobian)\n",
    "print(\"I: \",I)\n",
    "print(\"S: \",S)\n",
    "print(\"S_loss: \",S_loss)\n",
    "print(\"N: \",N)\n",
    "print(\"self.V1c: \",V1c)\n",
    "print(\"Del_P1: \",Del_P1)\n",
    "print(\"Del_Q1: \",Del_Q1)\n",
    "print(\"abs(Del_P1): \",abs(Del_P1))\n",
    "print(\"abs(Del_Q1): \",abs(Del_Q1))\n",
    "print(dir_Convergence)"
   ]
  },
  {
   "cell_type": "markdown",
   "metadata": {
    "id": "h-M2pey7tvmg"
   },
   "source": [
    "# DC Load Flow:\n",
    "Explaination_by_Yash: We need to change the way we define Y-bus matrix for DC load flow. We just need the reactance from linedata now."
   ]
  },
  {
   "cell_type": "markdown",
   "metadata": {
    "id": "QwKoz0Wb254l"
   },
   "source": [
    "## Formulation of B-bus matrix"
   ]
  },
  {
   "cell_type": "code",
   "execution_count": 87,
   "metadata": {
    "colab": {
     "base_uri": "https://localhost:8080/"
    },
    "id": "Bd2yOtNKtzQh",
    "outputId": "d035b9b2-9d59-469a-9dc9-8d4ae7dbd56b"
   },
   "outputs": [
    {
     "name": "stdout",
     "output_type": "stream",
     "text": [
      "[[ 58.33333333 -25.         -33.33333333]\n",
      " [-25.          65.         -40.        ]\n",
      " [-33.33333333 -40.          73.33333333]]\n"
     ]
    }
   ],
   "source": [
    "def common_member(a,b):\n",
    "  a_set = set(a)\n",
    "  b_set = set(b)\n",
    "\n",
    "  # check length\n",
    "  if len(a_set.intersection(b_set)) > 0:\n",
    "      return(list(a_set.intersection(b_set)))\n",
    "  else:\n",
    "      return([])\n",
    "\n",
    "B_bus= np.zeros([len(Loaddata1[:,0]),len(Loaddata1[:,0])],dtype=np.complex_);\n",
    "for i,k in zip(list(Linedata1[:,0]),list(Linedata1[:,1])):\n",
    "  i = int(i);k=int(k)\n",
    "  # print(f\"This is i: {i} & this is k: {k}\")\n",
    "  B_bus[i,k] += 1*(1/(j*Linedata1[common_member(np.where(Linedata1[:,0]==i)[0],np.where(Linedata1[:,1]==k)[0]),3]))[0]\n",
    "for i in Loaddata1[:,0]:\n",
    "  i = int(i);\n",
    "  B_bus[i,i] += -sum(1/(j*Linedata1[pp,3]) for pp in list(np.where(Linedata1[:,0]==i)[0]))\n",
    "G = np.real(B_bus)\n",
    "B = np.imag(B_bus)\n",
    "# print(B_bus)\n",
    "# print(G)\n",
    "print(B)"
   ]
  },
  {
   "cell_type": "markdown",
   "metadata": {
    "id": "90AT1e8tAmlh"
   },
   "source": [
    "Lastly one can do simple Equation solving using Sympy library's solver."
   ]
  }
 ],
 "metadata": {
  "colab": {
   "collapsed_sections": [
    "K4j3BjrP8tRE",
    "tpKDzWOiHonV",
    "95jGn0WwQBSR",
    "pfEhn-h4lJM2",
    "fEpkmv67lYQB",
    "EU8zSzD5SDQk",
    "MQnvZuWNdLVr",
    "xtsnqyponX7j",
    "GPcCHcu73XQO",
    "xt0ONWJKL8qE"
   ],
   "provenance": []
  },
  "kernelspec": {
   "display_name": "Python 3 (ipykernel)",
   "language": "python",
   "name": "python3"
  },
  "language_info": {
   "codemirror_mode": {
    "name": "ipython",
    "version": 3
   },
   "file_extension": ".py",
   "mimetype": "text/x-python",
   "name": "python",
   "nbconvert_exporter": "python",
   "pygments_lexer": "ipython3",
   "version": "3.10.14"
  }
 },
 "nbformat": 4,
 "nbformat_minor": 4
}
